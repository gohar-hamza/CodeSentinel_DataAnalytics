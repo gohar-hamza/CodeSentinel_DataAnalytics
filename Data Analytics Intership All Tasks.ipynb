{
 "cells": [
  {
   "cell_type": "markdown",
   "id": "dd51b792-bb96-4465-bd0f-5f587b89d8ae",
   "metadata": {},
   "source": [
    "# Task No 1\n",
    "# Dataset Exploration with Pandas"
   ]
  },
  {
   "cell_type": "code",
   "execution_count": 1,
   "id": "5e551b70-d096-456d-935d-c07e8ecc3fd3",
   "metadata": {},
   "outputs": [],
   "source": [
    "import pandas as pd\n",
    "import numpy as np\n",
    "import seaborn as sns \n",
    "import matplotlib.pyplot as plt"
   ]
  },
  {
   "cell_type": "markdown",
   "id": "37215bc4-19c2-4997-8198-aa45e3c792e3",
   "metadata": {},
   "source": [
    "### 1. Load Dataset\n",
    "- Loading the dataset iris from the sns library."
   ]
  },
  {
   "cell_type": "code",
   "execution_count": 2,
   "id": "7c2fba08-efd2-4cfb-b4ea-1f75612554eb",
   "metadata": {},
   "outputs": [],
   "source": [
    "df = sns.load_dataset('iris')"
   ]
  },
  {
   "cell_type": "markdown",
   "id": "db8352a4-792d-4454-986e-87d29487b741",
   "metadata": {},
   "source": [
    "### 2. Display Column Names\n",
    "- View all column names to understand the available features."
   ]
  },
  {
   "cell_type": "code",
   "execution_count": 3,
   "id": "aa9ea1d1-47f5-40de-85f7-102d625a71b3",
   "metadata": {},
   "outputs": [
    {
     "data": {
      "text/plain": [
       "Index(['sepal_length', 'sepal_width', 'petal_length', 'petal_width',\n",
       "       'species'],\n",
       "      dtype='object')"
      ]
     },
     "execution_count": 3,
     "metadata": {},
     "output_type": "execute_result"
    }
   ],
   "source": [
    "df.columns "
   ]
  },
  {
   "cell_type": "markdown",
   "id": "a5a65385-faed-475d-ad38-f1363991d335",
   "metadata": {},
   "source": [
    "- Columns:  Sepal Length, Petal Length, Sepal Width, Petal Width , species\n",
    "- Helps understand the available features."
   ]
  },
  {
   "cell_type": "markdown",
   "id": "740104e1-ea18-46dc-a9f7-d6f6d1b538e4",
   "metadata": {},
   "source": [
    "### 3. Number of Rows\n",
    "- Check the number of rows and columns to understand the dataset size."
   ]
  },
  {
   "cell_type": "code",
   "execution_count": 4,
   "id": "efaa6a79-636e-4151-9372-29ef952e9516",
   "metadata": {},
   "outputs": [
    {
     "data": {
      "text/plain": [
       "(150, 5)"
      ]
     },
     "execution_count": 4,
     "metadata": {},
     "output_type": "execute_result"
    }
   ],
   "source": [
    "df.shape"
   ]
  },
  {
   "cell_type": "markdown",
   "id": "84fe93cb-5ebc-4f7a-9f8d-e404402db7ed",
   "metadata": {},
   "source": [
    "- Dataset shape: 150 rows, 5 columns\n",
    "- Knowing dataset size helps plan analysis."
   ]
  },
  {
   "cell_type": "markdown",
   "id": "80e31f2d-1765-425e-a28e-8bdaef07a200",
   "metadata": {},
   "source": [
    "### 4. Data Types\n",
    "- Examine the data type of each column (e.g., integer, float, object) to determine suitable analysis methods.\n"
   ]
  },
  {
   "cell_type": "code",
   "execution_count": 5,
   "id": "c39efade-4343-4504-8d2c-647c698ff13f",
   "metadata": {},
   "outputs": [
    {
     "name": "stdout",
     "output_type": "stream",
     "text": [
      "<class 'pandas.core.frame.DataFrame'>\n",
      "RangeIndex: 150 entries, 0 to 149\n",
      "Data columns (total 5 columns):\n",
      " #   Column        Non-Null Count  Dtype  \n",
      "---  ------        --------------  -----  \n",
      " 0   sepal_length  150 non-null    float64\n",
      " 1   sepal_width   150 non-null    float64\n",
      " 2   petal_length  150 non-null    float64\n",
      " 3   petal_width   150 non-null    float64\n",
      " 4   species       150 non-null    object \n",
      "dtypes: float64(4), object(1)\n",
      "memory usage: 6.0+ KB\n"
     ]
    }
   ],
   "source": [
    "df.info()"
   ]
  },
  {
   "cell_type": "markdown",
   "id": "96ee8d1e-61e0-4bc4-829c-e48bdfa33ac9",
   "metadata": {},
   "source": [
    "### 5. Summary Statistics\n",
    "- Generate summary statistics for numerical columns to understand the distribution of values (mean, median, standard deviation, min, max, quartiles)."
   ]
  },
  {
   "cell_type": "code",
   "execution_count": 6,
   "id": "e00f3377-203c-41fb-8d2d-59d7a499e62a",
   "metadata": {},
   "outputs": [
    {
     "data": {
      "text/html": [
       "<div>\n",
       "<style scoped>\n",
       "    .dataframe tbody tr th:only-of-type {\n",
       "        vertical-align: middle;\n",
       "    }\n",
       "\n",
       "    .dataframe tbody tr th {\n",
       "        vertical-align: top;\n",
       "    }\n",
       "\n",
       "    .dataframe thead th {\n",
       "        text-align: right;\n",
       "    }\n",
       "</style>\n",
       "<table border=\"1\" class=\"dataframe\">\n",
       "  <thead>\n",
       "    <tr style=\"text-align: right;\">\n",
       "      <th></th>\n",
       "      <th>count</th>\n",
       "      <th>mean</th>\n",
       "      <th>std</th>\n",
       "      <th>min</th>\n",
       "      <th>25%</th>\n",
       "      <th>50%</th>\n",
       "      <th>75%</th>\n",
       "      <th>max</th>\n",
       "    </tr>\n",
       "  </thead>\n",
       "  <tbody>\n",
       "    <tr>\n",
       "      <th>sepal_length</th>\n",
       "      <td>150.0</td>\n",
       "      <td>5.843333</td>\n",
       "      <td>0.828066</td>\n",
       "      <td>4.3</td>\n",
       "      <td>5.1</td>\n",
       "      <td>5.80</td>\n",
       "      <td>6.4</td>\n",
       "      <td>7.9</td>\n",
       "    </tr>\n",
       "    <tr>\n",
       "      <th>sepal_width</th>\n",
       "      <td>150.0</td>\n",
       "      <td>3.057333</td>\n",
       "      <td>0.435866</td>\n",
       "      <td>2.0</td>\n",
       "      <td>2.8</td>\n",
       "      <td>3.00</td>\n",
       "      <td>3.3</td>\n",
       "      <td>4.4</td>\n",
       "    </tr>\n",
       "    <tr>\n",
       "      <th>petal_length</th>\n",
       "      <td>150.0</td>\n",
       "      <td>3.758000</td>\n",
       "      <td>1.765298</td>\n",
       "      <td>1.0</td>\n",
       "      <td>1.6</td>\n",
       "      <td>4.35</td>\n",
       "      <td>5.1</td>\n",
       "      <td>6.9</td>\n",
       "    </tr>\n",
       "    <tr>\n",
       "      <th>petal_width</th>\n",
       "      <td>150.0</td>\n",
       "      <td>1.199333</td>\n",
       "      <td>0.762238</td>\n",
       "      <td>0.1</td>\n",
       "      <td>0.3</td>\n",
       "      <td>1.30</td>\n",
       "      <td>1.8</td>\n",
       "      <td>2.5</td>\n",
       "    </tr>\n",
       "  </tbody>\n",
       "</table>\n",
       "</div>"
      ],
      "text/plain": [
       "              count      mean       std  min  25%   50%  75%  max\n",
       "sepal_length  150.0  5.843333  0.828066  4.3  5.1  5.80  6.4  7.9\n",
       "sepal_width   150.0  3.057333  0.435866  2.0  2.8  3.00  3.3  4.4\n",
       "petal_length  150.0  3.758000  1.765298  1.0  1.6  4.35  5.1  6.9\n",
       "petal_width   150.0  1.199333  0.762238  0.1  0.3  1.30  1.8  2.5"
      ]
     },
     "execution_count": 6,
     "metadata": {},
     "output_type": "execute_result"
    }
   ],
   "source": [
    "df.describe().T"
   ]
  },
  {
   "cell_type": "markdown",
   "id": "e5aa5c3b-5fdd-4f2a-b37c-d72484756d29",
   "metadata": {},
   "source": [
    "- Numerical summary (example): \n",
    "  - sepal_length: mean ≈ 5.84, min = 4.3, max = 7.9\n",
    "  - sepal_length: mean ≈ 3.05, min = 2.0, max = 4.4\n",
    "  - sepal_length: mean ≈ 3.75, min = 1.0, max = 6.9\n",
    "  - sepal_length: mean ≈ 1.19, min = 0.1, max = 2.5\n",
    "    \n",
    "- Helps detect outliers and distribution patterns."
   ]
  },
  {
   "cell_type": "markdown",
   "id": "8bb03a56-7fdb-4a9e-9b57-054612efdc34",
   "metadata": {},
   "source": [
    "### Goal\n",
    "- Understood the data structure.\n",
    "- Prepared for further analysis or modeling."
   ]
  },
  {
   "cell_type": "markdown",
   "id": "84d5ec0d-9030-450e-b12e-c1a59d997cb2",
   "metadata": {},
   "source": [
    "# Task No 2"
   ]
  },
  {
   "cell_type": "markdown",
   "id": "022dead1-1bd1-49d8-be88-0e30cc2f2b6d",
   "metadata": {},
   "source": [
    "## Clean a Dataset with Missing and Categorical Data\n"
   ]
  },
  {
   "cell_type": "markdown",
   "id": "d8278696-8cc7-44b1-b76d-05efb0ef1baa",
   "metadata": {},
   "source": [
    "### 1. Understanding data and Check Missing Values\n",
    "- Identify missing or null values to detect data cleaning requirements."
   ]
  },
  {
   "cell_type": "code",
   "execution_count": 7,
   "id": "ee485ae0-bdb6-4c57-829d-322fa8cfe3e5",
   "metadata": {},
   "outputs": [],
   "source": [
    "df = sns.load_dataset(\"titanic\")"
   ]
  },
  {
   "cell_type": "code",
   "execution_count": 8,
   "id": "1db6fa1b-a866-4534-b0f0-7cd1c0cb4075",
   "metadata": {},
   "outputs": [
    {
     "data": {
      "text/plain": [
       "(891, 15)"
      ]
     },
     "execution_count": 8,
     "metadata": {},
     "output_type": "execute_result"
    }
   ],
   "source": [
    "df.shape"
   ]
  },
  {
   "cell_type": "code",
   "execution_count": 9,
   "id": "8d5dda6e-b55e-4189-af6e-e1ab3f11005c",
   "metadata": {},
   "outputs": [
    {
     "name": "stdout",
     "output_type": "stream",
     "text": [
      "<class 'pandas.core.frame.DataFrame'>\n",
      "RangeIndex: 891 entries, 0 to 890\n",
      "Data columns (total 15 columns):\n",
      " #   Column       Non-Null Count  Dtype   \n",
      "---  ------       --------------  -----   \n",
      " 0   survived     891 non-null    int64   \n",
      " 1   pclass       891 non-null    int64   \n",
      " 2   sex          891 non-null    object  \n",
      " 3   age          714 non-null    float64 \n",
      " 4   sibsp        891 non-null    int64   \n",
      " 5   parch        891 non-null    int64   \n",
      " 6   fare         891 non-null    float64 \n",
      " 7   embarked     889 non-null    object  \n",
      " 8   class        891 non-null    category\n",
      " 9   who          891 non-null    object  \n",
      " 10  adult_male   891 non-null    bool    \n",
      " 11  deck         203 non-null    category\n",
      " 12  embark_town  889 non-null    object  \n",
      " 13  alive        891 non-null    object  \n",
      " 14  alone        891 non-null    bool    \n",
      "dtypes: bool(2), category(2), float64(2), int64(4), object(5)\n",
      "memory usage: 80.7+ KB\n"
     ]
    }
   ],
   "source": [
    "df.info()"
   ]
  },
  {
   "cell_type": "code",
   "execution_count": 10,
   "id": "a45ee3d6-1e18-48b5-8d28-fa470beac7ae",
   "metadata": {},
   "outputs": [
    {
     "data": {
      "text/plain": [
       "survived        0.000000\n",
       "pclass          0.000000\n",
       "sex             0.000000\n",
       "age            19.865320\n",
       "sibsp           0.000000\n",
       "parch           0.000000\n",
       "fare            0.000000\n",
       "embarked        0.224467\n",
       "class           0.000000\n",
       "who             0.000000\n",
       "adult_male      0.000000\n",
       "deck           77.216611\n",
       "embark_town     0.224467\n",
       "alive           0.000000\n",
       "alone           0.000000\n",
       "dtype: float64"
      ]
     },
     "execution_count": 10,
     "metadata": {},
     "output_type": "execute_result"
    }
   ],
   "source": [
    "df.isna().sum()/df.shape[0]*100"
   ]
  },
  {
   "cell_type": "markdown",
   "id": "f775d0ef-3dbf-4245-bcfd-c254c223fc58",
   "metadata": {},
   "source": [
    "- Age → 177 missing\n",
    "- Deck → 688 missing\n",
    "- Embarked → 2 missing\n",
    "- Important for data cleaning and preprocessing."
   ]
  },
  {
   "cell_type": "markdown",
   "id": "976e26ab-f455-4e35-a0e0-265a4dcddf58",
   "metadata": {},
   "source": [
    "### 2. Handle Missing Values\n"
   ]
  },
  {
   "cell_type": "code",
   "execution_count": 11,
   "id": "0c96403f-895c-4adc-9d44-cb774ba26aaa",
   "metadata": {},
   "outputs": [],
   "source": [
    "df[\"age\"] = df[\"age\"].fillna(df[\"age\"].median())\n",
    "df[\"embarked\"] = df[\"embarked\"].fillna(df[\"embarked\"].mode()[0])\n",
    "df.drop(\"deck\" , axis = 1 , inplace = True)"
   ]
  },
  {
   "cell_type": "markdown",
   "id": "d0374c82-07d5-4396-a864-bc2b2912cf54",
   "metadata": {},
   "source": [
    "- **Age**: Filled missing values with the median.\n",
    "- **Embarked**: Filled missing values with the mode (most frequent value).\n",
    "- **Deck**: Dropped due to too many missing values.\n"
   ]
  },
  {
   "cell_type": "markdown",
   "id": "e1616a6c-9731-4e70-8340-f343ccd77128",
   "metadata": {},
   "source": [
    "### 3. Convert Categorical Columns to Numeric using lebal Encoding "
   ]
  },
  {
   "cell_type": "code",
   "execution_count": 12,
   "id": "4e16c13d-a8c6-429c-83d2-0bdea767da87",
   "metadata": {},
   "outputs": [
    {
     "data": {
      "text/html": [
       "<div>\n",
       "<style scoped>\n",
       "    .dataframe tbody tr th:only-of-type {\n",
       "        vertical-align: middle;\n",
       "    }\n",
       "\n",
       "    .dataframe tbody tr th {\n",
       "        vertical-align: top;\n",
       "    }\n",
       "\n",
       "    .dataframe thead th {\n",
       "        text-align: right;\n",
       "    }\n",
       "</style>\n",
       "<table border=\"1\" class=\"dataframe\">\n",
       "  <thead>\n",
       "    <tr style=\"text-align: right;\">\n",
       "      <th></th>\n",
       "      <th>survived</th>\n",
       "      <th>pclass</th>\n",
       "      <th>sex</th>\n",
       "      <th>age</th>\n",
       "      <th>sibsp</th>\n",
       "      <th>parch</th>\n",
       "      <th>fare</th>\n",
       "      <th>embarked</th>\n",
       "      <th>class</th>\n",
       "      <th>who</th>\n",
       "      <th>adult_male</th>\n",
       "      <th>embark_town</th>\n",
       "      <th>alive</th>\n",
       "      <th>alone</th>\n",
       "    </tr>\n",
       "  </thead>\n",
       "  <tbody>\n",
       "    <tr>\n",
       "      <th>0</th>\n",
       "      <td>0</td>\n",
       "      <td>3</td>\n",
       "      <td>male</td>\n",
       "      <td>22.0</td>\n",
       "      <td>1</td>\n",
       "      <td>0</td>\n",
       "      <td>7.2500</td>\n",
       "      <td>S</td>\n",
       "      <td>Third</td>\n",
       "      <td>man</td>\n",
       "      <td>True</td>\n",
       "      <td>Southampton</td>\n",
       "      <td>no</td>\n",
       "      <td>False</td>\n",
       "    </tr>\n",
       "    <tr>\n",
       "      <th>1</th>\n",
       "      <td>1</td>\n",
       "      <td>1</td>\n",
       "      <td>female</td>\n",
       "      <td>38.0</td>\n",
       "      <td>1</td>\n",
       "      <td>0</td>\n",
       "      <td>71.2833</td>\n",
       "      <td>C</td>\n",
       "      <td>First</td>\n",
       "      <td>woman</td>\n",
       "      <td>False</td>\n",
       "      <td>Cherbourg</td>\n",
       "      <td>yes</td>\n",
       "      <td>False</td>\n",
       "    </tr>\n",
       "    <tr>\n",
       "      <th>2</th>\n",
       "      <td>1</td>\n",
       "      <td>3</td>\n",
       "      <td>female</td>\n",
       "      <td>26.0</td>\n",
       "      <td>0</td>\n",
       "      <td>0</td>\n",
       "      <td>7.9250</td>\n",
       "      <td>S</td>\n",
       "      <td>Third</td>\n",
       "      <td>woman</td>\n",
       "      <td>False</td>\n",
       "      <td>Southampton</td>\n",
       "      <td>yes</td>\n",
       "      <td>True</td>\n",
       "    </tr>\n",
       "    <tr>\n",
       "      <th>3</th>\n",
       "      <td>1</td>\n",
       "      <td>1</td>\n",
       "      <td>female</td>\n",
       "      <td>35.0</td>\n",
       "      <td>1</td>\n",
       "      <td>0</td>\n",
       "      <td>53.1000</td>\n",
       "      <td>S</td>\n",
       "      <td>First</td>\n",
       "      <td>woman</td>\n",
       "      <td>False</td>\n",
       "      <td>Southampton</td>\n",
       "      <td>yes</td>\n",
       "      <td>False</td>\n",
       "    </tr>\n",
       "    <tr>\n",
       "      <th>4</th>\n",
       "      <td>0</td>\n",
       "      <td>3</td>\n",
       "      <td>male</td>\n",
       "      <td>35.0</td>\n",
       "      <td>0</td>\n",
       "      <td>0</td>\n",
       "      <td>8.0500</td>\n",
       "      <td>S</td>\n",
       "      <td>Third</td>\n",
       "      <td>man</td>\n",
       "      <td>True</td>\n",
       "      <td>Southampton</td>\n",
       "      <td>no</td>\n",
       "      <td>True</td>\n",
       "    </tr>\n",
       "  </tbody>\n",
       "</table>\n",
       "</div>"
      ],
      "text/plain": [
       "   survived  pclass     sex   age  sibsp  parch     fare embarked  class  \\\n",
       "0         0       3    male  22.0      1      0   7.2500        S  Third   \n",
       "1         1       1  female  38.0      1      0  71.2833        C  First   \n",
       "2         1       3  female  26.0      0      0   7.9250        S  Third   \n",
       "3         1       1  female  35.0      1      0  53.1000        S  First   \n",
       "4         0       3    male  35.0      0      0   8.0500        S  Third   \n",
       "\n",
       "     who  adult_male  embark_town alive  alone  \n",
       "0    man        True  Southampton    no  False  \n",
       "1  woman       False    Cherbourg   yes  False  \n",
       "2  woman       False  Southampton   yes   True  \n",
       "3  woman       False  Southampton   yes  False  \n",
       "4    man        True  Southampton    no   True  "
      ]
     },
     "execution_count": 12,
     "metadata": {},
     "output_type": "execute_result"
    }
   ],
   "source": [
    "df.head()"
   ]
  },
  {
   "cell_type": "code",
   "execution_count": 13,
   "id": "e3bea8f3-7b72-4804-aa92-76653aebe58a",
   "metadata": {},
   "outputs": [],
   "source": [
    "df['gender'] = df['sex'].map({'male': 0, 'female': 1})\n",
    "df[\"embarked_numeric\"] = df[\"embarked\"].map({\"S\":0 , \"C\":1 , \"Q\":2})\n",
    "df[\"class_numberic\"] = df[\"class\"].map({\"First\" : 1 , \"Second\":2 , \"Third\":3})\n"
   ]
  },
  {
   "cell_type": "markdown",
   "id": "f510b73b-145a-415a-88a6-2c8d46aaa420",
   "metadata": {},
   "source": [
    "- **Sex**: male → 0, female → 1\n",
    "- **Embarked**: S → 0, C → 1, Q → 2\n",
    "- **Class**: First → 1 , Second → 2 , Third → 3"
   ]
  },
  {
   "cell_type": "markdown",
   "id": "8c0eaaaa-7279-472b-8156-81dd0f31b0b0",
   "metadata": {},
   "source": [
    "### Goal\n",
    "- Learned how to clean missing data.\n",
    "- Converted categorical variables to numeric.\n",
    "\n"
   ]
  },
  {
   "cell_type": "markdown",
   "id": "eee2f6dc-56b7-4b3d-b533-1f37f5adee33",
   "metadata": {},
   "source": [
    "# Task No 3"
   ]
  },
  {
   "cell_type": "markdown",
   "id": "040e6362-512d-401a-8713-42ed64567121",
   "metadata": {},
   "source": [
    "## Visualize Key Insights from Data"
   ]
  },
  {
   "cell_type": "markdown",
   "id": "d7596fe4-29e0-46e1-9b97-025730a073c0",
   "metadata": {},
   "source": [
    "### 1. Plot Survival Rates by Gender\n",
    "- Used seaborn countplot."
   ]
  },
  {
   "cell_type": "code",
   "execution_count": 14,
   "id": "065f3724-3caf-4d3d-93df-32de9ad26c1d",
   "metadata": {},
   "outputs": [
    {
     "name": "stdout",
     "output_type": "stream",
     "text": [
      "      sex  survived  Count\n",
      "0  female         0     81\n",
      "1  female         1    233\n",
      "2    male         0    468\n",
      "3    male         1    109\n"
     ]
    },
    {
     "data": {
      "image/png": "[encoded data removed]",
      "text/plain": [
       "<Figure size 640x480 with 1 Axes>"
      ]
     },
     "metadata": {},
     "output_type": "display_data"
    }
   ],
   "source": [
    "gender_survival_counts = df.groupby(['sex', 'survived']).size().reset_index(name='Count')\n",
    "print(gender_survival_counts)\n",
    "\n",
    "sns.countplot(x='sex', hue='survived', data=df , palette = {0: \"red\" , 1 :\"blue\"})\n",
    "plt.title('Survival Rate by Gender')\n",
    "plt.xlabel('Gender')\n",
    "plt.ylabel('Count')\n",
    "plt.show()\n",
    "\n",
    "\n"
   ]
  },
  {
   "cell_type": "markdown",
   "id": "60f59cca-2bd6-4bd2-abc3-886340305319",
   "metadata": {},
   "source": [
    "- Findings:\n",
    "  - Female passengers had a higher survival rate than male passengers."
   ]
  },
  {
   "cell_type": "markdown",
   "id": "c0cbd8c2-f43e-49e2-9d92-976b918f9195",
   "metadata": {},
   "source": [
    "### 2. Plot Survival Rates by Class\n",
    "- Used seaborn countplot."
   ]
  },
  {
   "cell_type": "code",
   "execution_count": 15,
   "id": "a54b355e-f18d-4b79-8ba7-79d8cf1489d8",
   "metadata": {},
   "outputs": [
    {
     "name": "stderr",
     "output_type": "stream",
     "text": [
      "C:\\Users\\Jam\\AppData\\Local\\Temp\\ipykernel_4388\\4104256636.py:1: FutureWarning: The default of observed=False is deprecated and will be changed to True in a future version of pandas. Pass observed=False to retain current behavior or observed=True to adopt the future default and silence this warning.\n",
      "  class_survival_counts = df.groupby(['class', 'survived']).size().reset_index(name='Count')\n"
     ]
    },
    {
     "name": "stdout",
     "output_type": "stream",
     "text": [
      "    class  survived  Count\n",
      "0   First         0     80\n",
      "1   First         1    136\n",
      "2  Second         0     97\n",
      "3  Second         1     87\n",
      "4   Third         0    372\n",
      "5   Third         1    119\n"
     ]
    },
    {
     "data": {
      "image/png": "[encoded data removed]",
      "text/plain": [
       "<Figure size 640x480 with 1 Axes>"
      ]
     },
     "metadata": {},
     "output_type": "display_data"
    }
   ],
   "source": [
    "class_survival_counts = df.groupby(['class', 'survived']).size().reset_index(name='Count')\n",
    "print(class_survival_counts)\n",
    "\n",
    "sns.countplot(x='class', hue='survived', data=df , palette = {0: \"red\" , 1 :\"blue\"} )\n",
    "plt.title('Survival Rate by Class')\n",
    "plt.xlabel('Passenger Class')\n",
    "plt.ylabel('Count')\n",
    "plt.show()"
   ]
  },
  {
   "cell_type": "markdown",
   "id": "bcede11c-acf7-46ac-bba4-561554cc1326",
   "metadata": {},
   "source": [
    "- Findings:\n",
    "  - Passengers in higher classes (first class) had a higher survival rate than lower classes."
   ]
  },
  {
   "cell_type": "markdown",
   "id": "d5d7c490-5907-4726-aa4e-aa7a01876868",
   "metadata": {},
   "source": [
    "### 3. PIE CHART: Passenger class distribution"
   ]
  },
  {
   "cell_type": "code",
   "execution_count": 16,
   "id": "7b7b1e26-496f-46df-8411-023bca13f64e",
   "metadata": {},
   "outputs": [
    {
     "data": {
      "image/png": "[encoded data removed]",
      "text/plain": [
       "<Figure size 600x600 with 1 Axes>"
      ]
     },
     "metadata": {},
     "output_type": "display_data"
    }
   ],
   "source": [
    "pclass_counts = df[\"pclass\"].value_counts()\n",
    "plt.figure(figsize=(6,6))\n",
    "plt.pie(pclass_counts, labels=pclass_counts.index, autopct='%1.1f%%', startangle=90, colors=[\"gold\", \"lightblue\", \"lightgreen\"])\n",
    "plt.title(\"Passenger Class Distribution\")\n",
    "plt.show()"
   ]
  },
  {
   "cell_type": "markdown",
   "id": "1a953234-1f65-44a4-968a-5a18f7265192",
   "metadata": {},
   "source": [
    "- Findings\n",
    "    - Most passengers were in 3rd class. "
   ]
  },
  {
   "cell_type": "markdown",
   "id": "31c9221a-f48f-4698-b9e8-77371ca4c483",
   "metadata": {},
   "source": [
    "### 4. HISTOGRAM: Age distribution"
   ]
  },
  {
   "cell_type": "code",
   "execution_count": 17,
   "id": "de2342b3-9422-4ff7-b276-86dc0c2be91f",
   "metadata": {},
   "outputs": [
    {
     "data": {
      "image/png": "[encoded data removed]",
      "text/plain": [
       "<Figure size 800x600 with 1 Axes>"
      ]
     },
     "metadata": {},
     "output_type": "display_data"
    }
   ],
   "source": [
    "plt.figure(figsize=(8,6))\n",
    "sns.histplot(df[\"age\"], bins=30, kde=True, color=\"skyblue\")\n",
    "plt.title(\"Age Distribution of Titanic Passengers\")\n",
    "plt.xlabel(\"Age\")\n",
    "plt.ylabel(\"Frequency\")\n",
    "plt.show()"
   ]
  },
  {
   "cell_type": "markdown",
   "id": "7172696d-cae2-4f17-bbe4-687d32c8ba2d",
   "metadata": {},
   "source": [
    "- Findings\n",
    "    - Majority of passengers were between 20–40 years old. "
   ]
  },
  {
   "cell_type": "markdown",
   "id": "61cc4042-66b4-4094-af3d-517561cc5222",
   "metadata": {},
   "source": [
    "### 5. BOXPLOT: Age by Class"
   ]
  },
  {
   "cell_type": "code",
   "execution_count": 18,
   "id": "28651f6b-d678-4436-81a6-8864aea5c0ac",
   "metadata": {},
   "outputs": [
    {
     "name": "stderr",
     "output_type": "stream",
     "text": [
      "C:\\Users\\Jam\\AppData\\Local\\Temp\\ipykernel_4388\\120818853.py:2: FutureWarning: \n",
      "\n",
      "Passing `palette` without assigning `hue` is deprecated and will be removed in v0.14.0. Assign the `x` variable to `hue` and set `legend=False` for the same effect.\n",
      "\n",
      "  sns.boxplot(x=\"pclass\", y=\"age\", data=df, palette=\"Set2\")\n"
     ]
    },
    {
     "data": {
      "image/png": "[encoded data removed]",
      "text/plain": [
       "<Figure size 800x600 with 1 Axes>"
      ]
     },
     "metadata": {},
     "output_type": "display_data"
    }
   ],
   "source": [
    "plt.figure(figsize=(8,6))\n",
    "sns.boxplot(x=\"pclass\", y=\"age\", data=df, palette=\"Set2\")\n",
    "plt.title(\"Age Distribution by Passenger Class\")\n",
    "plt.xlabel(\"Passenger Class\")\n",
    "plt.ylabel(\"Age\")\n",
    "plt.show()"
   ]
  },
  {
   "cell_type": "raw",
   "id": "1dd037a6-ec93-4a21-a312-abd8b3f256e5",
   "metadata": {},
   "source": [
    "- Findings \n",
    "    - Wealthier classes (1st) had higher median ages, while 3rd class had many younger passengers."
   ]
  },
  {
   "cell_type": "markdown",
   "id": "d78b1756-4977-4a45-9bff-6f6c7f460438",
   "metadata": {},
   "source": [
    "### Goal:\n",
    "- Communicate data-driven insights through charts and plots."
   ]
  },
  {
   "cell_type": "markdown",
   "id": "04268f8f-dd71-47e0-9f32-0ffcc1b1e4f9",
   "metadata": {},
   "source": [
    "# Task No 4"
   ]
  },
  {
   "cell_type": "markdown",
   "id": "77950a92-c1a9-4fac-b97b-07a1e914f984",
   "metadata": {},
   "source": [
    "# Analyze Sales  Data Using Grouping"
   ]
  },
  {
   "cell_type": "markdown",
   "id": "c4c14cac-03bc-4342-aa75-7cd3e00bf2d6",
   "metadata": {},
   "source": [
    "> Superstore Sales Dataset (a classic for sales analysis). It’s widely used in data science and business analytics projects because it has sales, profit, category, region, and customer data."
   ]
  },
  {
   "cell_type": "code",
   "execution_count": 19,
   "id": "d445fc4e-e0d1-4308-8e70-a7dd7d68a7c3",
   "metadata": {},
   "outputs": [],
   "source": [
    "df = pd.read_csv(\"train.csv\")"
   ]
  },
  {
   "cell_type": "code",
   "execution_count": 20,
   "id": "3edfa762-b533-482d-8464-aa1507007396",
   "metadata": {},
   "outputs": [
    {
     "data": {
      "text/html": [
       "<div>\n",
       "<style scoped>\n",
       "    .dataframe tbody tr th:only-of-type {\n",
       "        vertical-align: middle;\n",
       "    }\n",
       "\n",
       "    .dataframe tbody tr th {\n",
       "        vertical-align: top;\n",
       "    }\n",
       "\n",
       "    .dataframe thead th {\n",
       "        text-align: right;\n",
       "    }\n",
       "</style>\n",
       "<table border=\"1\" class=\"dataframe\">\n",
       "  <thead>\n",
       "    <tr style=\"text-align: right;\">\n",
       "      <th></th>\n",
       "      <th>Row ID</th>\n",
       "      <th>Order ID</th>\n",
       "      <th>Order Date</th>\n",
       "      <th>Ship Date</th>\n",
       "      <th>Ship Mode</th>\n",
       "      <th>Customer ID</th>\n",
       "      <th>Customer Name</th>\n",
       "      <th>Segment</th>\n",
       "      <th>Country</th>\n",
       "      <th>City</th>\n",
       "      <th>State</th>\n",
       "      <th>Postal Code</th>\n",
       "      <th>Region</th>\n",
       "      <th>Product ID</th>\n",
       "      <th>Category</th>\n",
       "      <th>Sub-Category</th>\n",
       "      <th>Product Name</th>\n",
       "      <th>Sales</th>\n",
       "    </tr>\n",
       "  </thead>\n",
       "  <tbody>\n",
       "    <tr>\n",
       "      <th>0</th>\n",
       "      <td>1</td>\n",
       "      <td>CA-2017-152156</td>\n",
       "      <td>08/11/2017</td>\n",
       "      <td>11/11/2017</td>\n",
       "      <td>Second Class</td>\n",
       "      <td>CG-12520</td>\n",
       "      <td>Claire Gute</td>\n",
       "      <td>Consumer</td>\n",
       "      <td>United States</td>\n",
       "      <td>Henderson</td>\n",
       "      <td>Kentucky</td>\n",
       "      <td>42420.0</td>\n",
       "      <td>South</td>\n",
       "      <td>FUR-BO-10001798</td>\n",
       "      <td>Furniture</td>\n",
       "      <td>Bookcases</td>\n",
       "      <td>Bush Somerset Collection Bookcase</td>\n",
       "      <td>261.9600</td>\n",
       "    </tr>\n",
       "    <tr>\n",
       "      <th>1</th>\n",
       "      <td>2</td>\n",
       "      <td>CA-2017-152156</td>\n",
       "      <td>08/11/2017</td>\n",
       "      <td>11/11/2017</td>\n",
       "      <td>Second Class</td>\n",
       "      <td>CG-12520</td>\n",
       "      <td>Claire Gute</td>\n",
       "      <td>Consumer</td>\n",
       "      <td>United States</td>\n",
       "      <td>Henderson</td>\n",
       "      <td>Kentucky</td>\n",
       "      <td>42420.0</td>\n",
       "      <td>South</td>\n",
       "      <td>FUR-CH-10000454</td>\n",
       "      <td>Furniture</td>\n",
       "      <td>Chairs</td>\n",
       "      <td>Hon Deluxe Fabric Upholstered Stacking Chairs,...</td>\n",
       "      <td>731.9400</td>\n",
       "    </tr>\n",
       "    <tr>\n",
       "      <th>2</th>\n",
       "      <td>3</td>\n",
       "      <td>CA-2017-138688</td>\n",
       "      <td>12/06/2017</td>\n",
       "      <td>16/06/2017</td>\n",
       "      <td>Second Class</td>\n",
       "      <td>DV-13045</td>\n",
       "      <td>Darrin Van Huff</td>\n",
       "      <td>Corporate</td>\n",
       "      <td>United States</td>\n",
       "      <td>Los Angeles</td>\n",
       "      <td>California</td>\n",
       "      <td>90036.0</td>\n",
       "      <td>West</td>\n",
       "      <td>OFF-LA-10000240</td>\n",
       "      <td>Office Supplies</td>\n",
       "      <td>Labels</td>\n",
       "      <td>Self-Adhesive Address Labels for Typewriters b...</td>\n",
       "      <td>14.6200</td>\n",
       "    </tr>\n",
       "    <tr>\n",
       "      <th>3</th>\n",
       "      <td>4</td>\n",
       "      <td>US-2016-108966</td>\n",
       "      <td>11/10/2016</td>\n",
       "      <td>18/10/2016</td>\n",
       "      <td>Standard Class</td>\n",
       "      <td>SO-20335</td>\n",
       "      <td>Sean O'Donnell</td>\n",
       "      <td>Consumer</td>\n",
       "      <td>United States</td>\n",
       "      <td>Fort Lauderdale</td>\n",
       "      <td>Florida</td>\n",
       "      <td>33311.0</td>\n",
       "      <td>South</td>\n",
       "      <td>FUR-TA-10000577</td>\n",
       "      <td>Furniture</td>\n",
       "      <td>Tables</td>\n",
       "      <td>Bretford CR4500 Series Slim Rectangular Table</td>\n",
       "      <td>957.5775</td>\n",
       "    </tr>\n",
       "    <tr>\n",
       "      <th>4</th>\n",
       "      <td>5</td>\n",
       "      <td>US-2016-108966</td>\n",
       "      <td>11/10/2016</td>\n",
       "      <td>18/10/2016</td>\n",
       "      <td>Standard Class</td>\n",
       "      <td>SO-20335</td>\n",
       "      <td>Sean O'Donnell</td>\n",
       "      <td>Consumer</td>\n",
       "      <td>United States</td>\n",
       "      <td>Fort Lauderdale</td>\n",
       "      <td>Florida</td>\n",
       "      <td>33311.0</td>\n",
       "      <td>South</td>\n",
       "      <td>OFF-ST-10000760</td>\n",
       "      <td>Office Supplies</td>\n",
       "      <td>Storage</td>\n",
       "      <td>Eldon Fold 'N Roll Cart System</td>\n",
       "      <td>22.3680</td>\n",
       "    </tr>\n",
       "  </tbody>\n",
       "</table>\n",
       "</div>"
      ],
      "text/plain": [
       "   Row ID        Order ID  Order Date   Ship Date       Ship Mode Customer ID  \\\n",
       "0       1  CA-2017-152156  08/11/2017  11/11/2017    Second Class    CG-12520   \n",
       "1       2  CA-2017-152156  08/11/2017  11/11/2017    Second Class    CG-12520   \n",
       "2       3  CA-2017-138688  12/06/2017  16/06/2017    Second Class    DV-13045   \n",
       "3       4  US-2016-108966  11/10/2016  18/10/2016  Standard Class    SO-20335   \n",
       "4       5  US-2016-108966  11/10/2016  18/10/2016  Standard Class    SO-20335   \n",
       "\n",
       "     Customer Name    Segment        Country             City       State  \\\n",
       "0      Claire Gute   Consumer  United States        Henderson    Kentucky   \n",
       "1      Claire Gute   Consumer  United States        Henderson    Kentucky   \n",
       "2  Darrin Van Huff  Corporate  United States      Los Angeles  California   \n",
       "3   Sean O'Donnell   Consumer  United States  Fort Lauderdale     Florida   \n",
       "4   Sean O'Donnell   Consumer  United States  Fort Lauderdale     Florida   \n",
       "\n",
       "   Postal Code Region       Product ID         Category Sub-Category  \\\n",
       "0      42420.0  South  FUR-BO-10001798        Furniture    Bookcases   \n",
       "1      42420.0  South  FUR-CH-10000454        Furniture       Chairs   \n",
       "2      90036.0   West  OFF-LA-10000240  Office Supplies       Labels   \n",
       "3      33311.0  South  FUR-TA-10000577        Furniture       Tables   \n",
       "4      33311.0  South  OFF-ST-10000760  Office Supplies      Storage   \n",
       "\n",
       "                                        Product Name     Sales  \n",
       "0                  Bush Somerset Collection Bookcase  261.9600  \n",
       "1  Hon Deluxe Fabric Upholstered Stacking Chairs,...  731.9400  \n",
       "2  Self-Adhesive Address Labels for Typewriters b...   14.6200  \n",
       "3      Bretford CR4500 Series Slim Rectangular Table  957.5775  \n",
       "4                     Eldon Fold 'N Roll Cart System   22.3680  "
      ]
     },
     "execution_count": 20,
     "metadata": {},
     "output_type": "execute_result"
    }
   ],
   "source": [
    "df.head()"
   ]
  },
  {
   "cell_type": "code",
   "execution_count": 21,
   "id": "2b708a7a-efd4-4005-b64a-23577e6db686",
   "metadata": {},
   "outputs": [
    {
     "data": {
      "text/plain": [
       "(9800, 18)"
      ]
     },
     "execution_count": 21,
     "metadata": {},
     "output_type": "execute_result"
    }
   ],
   "source": [
    "df.shape"
   ]
  },
  {
   "cell_type": "code",
   "execution_count": 22,
   "id": "1609e432-ca00-464d-89f8-97400ddf408e",
   "metadata": {},
   "outputs": [
    {
     "name": "stdout",
     "output_type": "stream",
     "text": [
      "<class 'pandas.core.frame.DataFrame'>\n",
      "RangeIndex: 9800 entries, 0 to 9799\n",
      "Data columns (total 18 columns):\n",
      " #   Column         Non-Null Count  Dtype  \n",
      "---  ------         --------------  -----  \n",
      " 0   Row ID         9800 non-null   int64  \n",
      " 1   Order ID       9800 non-null   object \n",
      " 2   Order Date     9800 non-null   object \n",
      " 3   Ship Date      9800 non-null   object \n",
      " 4   Ship Mode      9800 non-null   object \n",
      " 5   Customer ID    9800 non-null   object \n",
      " 6   Customer Name  9800 non-null   object \n",
      " 7   Segment        9800 non-null   object \n",
      " 8   Country        9800 non-null   object \n",
      " 9   City           9800 non-null   object \n",
      " 10  State          9800 non-null   object \n",
      " 11  Postal Code    9789 non-null   float64\n",
      " 12  Region         9800 non-null   object \n",
      " 13  Product ID     9800 non-null   object \n",
      " 14  Category       9800 non-null   object \n",
      " 15  Sub-Category   9800 non-null   object \n",
      " 16  Product Name   9800 non-null   object \n",
      " 17  Sales          9800 non-null   float64\n",
      "dtypes: float64(2), int64(1), object(15)\n",
      "memory usage: 1.3+ MB\n"
     ]
    }
   ],
   "source": [
    "df.info()"
   ]
  },
  {
   "cell_type": "code",
   "execution_count": 23,
   "id": "56f752fb-359b-4314-a5d8-2827fa5a1607",
   "metadata": {},
   "outputs": [
    {
     "data": {
      "text/plain": [
       "Row ID           0.000000\n",
       "Order ID         0.000000\n",
       "Order Date       0.000000\n",
       "Ship Date        0.000000\n",
       "Ship Mode        0.000000\n",
       "Customer ID      0.000000\n",
       "Customer Name    0.000000\n",
       "Segment          0.000000\n",
       "Country          0.000000\n",
       "City             0.000000\n",
       "State            0.000000\n",
       "Postal Code      0.112245\n",
       "Region           0.000000\n",
       "Product ID       0.000000\n",
       "Category         0.000000\n",
       "Sub-Category     0.000000\n",
       "Product Name     0.000000\n",
       "Sales            0.000000\n",
       "dtype: float64"
      ]
     },
     "execution_count": 23,
     "metadata": {},
     "output_type": "execute_result"
    }
   ],
   "source": [
    "df.isna().sum()/df.shape[0]*100"
   ]
  },
  {
   "cell_type": "markdown",
   "id": "12f8e2e5-6ec6-4cd6-beae-a9a248c31b3c",
   "metadata": {},
   "source": [
    "##  For Sales Analysis"
   ]
  },
  {
   "cell_type": "markdown",
   "id": "8c457763-0ef7-47f8-9438-226096fb536b",
   "metadata": {},
   "source": [
    "- Superstore Dataset\n",
    "\n",
    "    - Columns: Order Date, Category, Sub-Category, Sales, Profit, Region, Segment, etc.\n",
    "\n",
    "        - Example Grouping:\n",
    "\n",
    "            - Sales by Region\n",
    "\n",
    "            - Sales by Category\n",
    "\n",
    "            - Average Sales per Customer Segment"
   ]
  },
  {
   "cell_type": "markdown",
   "id": "7c0b1102-fefd-4101-852c-950e94bf9cf6",
   "metadata": {},
   "source": [
    "### a. Sales by Region"
   ]
  },
  {
   "cell_type": "code",
   "execution_count": 24,
   "id": "65fcf668-9ff0-4a75-b3f6-e929d0f3dd9c",
   "metadata": {},
   "outputs": [
    {
     "data": {
      "text/html": [
       "<div>\n",
       "<style scoped>\n",
       "    .dataframe tbody tr th:only-of-type {\n",
       "        vertical-align: middle;\n",
       "    }\n",
       "\n",
       "    .dataframe tbody tr th {\n",
       "        vertical-align: top;\n",
       "    }\n",
       "\n",
       "    .dataframe thead th {\n",
       "        text-align: right;\n",
       "    }\n",
       "</style>\n",
       "<table border=\"1\" class=\"dataframe\">\n",
       "  <thead>\n",
       "    <tr style=\"text-align: right;\">\n",
       "      <th></th>\n",
       "      <th>Region</th>\n",
       "      <th>Sales</th>\n",
       "    </tr>\n",
       "  </thead>\n",
       "  <tbody>\n",
       "    <tr>\n",
       "      <th>0</th>\n",
       "      <td>Central</td>\n",
       "      <td>492646.9132</td>\n",
       "    </tr>\n",
       "    <tr>\n",
       "      <th>1</th>\n",
       "      <td>East</td>\n",
       "      <td>669518.7260</td>\n",
       "    </tr>\n",
       "    <tr>\n",
       "      <th>2</th>\n",
       "      <td>South</td>\n",
       "      <td>389151.4590</td>\n",
       "    </tr>\n",
       "    <tr>\n",
       "      <th>3</th>\n",
       "      <td>West</td>\n",
       "      <td>710219.6845</td>\n",
       "    </tr>\n",
       "  </tbody>\n",
       "</table>\n",
       "</div>"
      ],
      "text/plain": [
       "    Region        Sales\n",
       "0  Central  492646.9132\n",
       "1     East  669518.7260\n",
       "2    South  389151.4590\n",
       "3     West  710219.6845"
      ]
     },
     "execution_count": 24,
     "metadata": {},
     "output_type": "execute_result"
    }
   ],
   "source": [
    "sales_by_region = df.groupby(\"Region\")[\"Sales\"].sum().reset_index()\n",
    "sales_by_region"
   ]
  },
  {
   "cell_type": "code",
   "execution_count": 25,
   "id": "6ca34de8-cfd9-439c-ad73-247be3cb52a4",
   "metadata": {},
   "outputs": [
    {
     "name": "stderr",
     "output_type": "stream",
     "text": [
      "C:\\Users\\Jam\\AppData\\Local\\Temp\\ipykernel_4388\\302866563.py:2: FutureWarning: \n",
      "\n",
      "Passing `palette` without assigning `hue` is deprecated and will be removed in v0.14.0. Assign the `x` variable to `hue` and set `legend=False` for the same effect.\n",
      "\n",
      "  sns.barplot(x=\"Region\", y=\"Sales\", data=sales_by_region, palette=\"viridis\")\n"
     ]
    },
    {
     "data": {
      "image/png": "[encoded data removed]",
      "text/plain": [
       "<Figure size 600x400 with 1 Axes>"
      ]
     },
     "metadata": {},
     "output_type": "display_data"
    }
   ],
   "source": [
    "plt.figure(figsize=(6,4))\n",
    "sns.barplot(x=\"Region\", y=\"Sales\", data=sales_by_region, palette=\"viridis\")\n",
    "plt.title(\"Total Sales by Region\")\n",
    "plt.ylabel(\"Total Sales\")\n",
    "plt.xticks(rotation=30)\n",
    "plt.show()"
   ]
  },
  {
   "cell_type": "markdown",
   "id": "c73fee60-8593-4891-a426-d83e7faa9eef",
   "metadata": {},
   "source": [
    "- Findings Sales by Region\n",
    "    - The **West Region** records the highest total sales.\n",
    "    - The **South Region** shows the lowest sales contribution."
   ]
  },
  {
   "cell_type": "code",
   "execution_count": 26,
   "id": "90f7f2e7-c452-48e1-8e92-ea94870de57d",
   "metadata": {},
   "outputs": [
    {
     "name": "stderr",
     "output_type": "stream",
     "text": [
      "C:\\Users\\Jam\\AppData\\Local\\Temp\\ipykernel_4388\\3136354702.py:4: FutureWarning: \n",
      "\n",
      "Passing `palette` without assigning `hue` is deprecated and will be removed in v0.14.0. Assign the `y` variable to `hue` and set `legend=False` for the same effect.\n",
      "\n",
      "  sns.barplot(x=\"Sales\", y=\"Category\", data=profit_by_category, palette=\"Blues_r\")\n"
     ]
    },
    {
     "data": {
      "image/png": "[encoded data removed]",
      "text/plain": [
       "<Figure size 640x480 with 1 Axes>"
      ]
     },
     "metadata": {},
     "output_type": "display_data"
    }
   ],
   "source": [
    "\n",
    "profit_by_category = df.groupby(\"Category\")[\"Sales\"].sum().reset_index()\n",
    "profit_by_category\n",
    "\n",
    "sns.barplot(x=\"Sales\", y=\"Category\", data=profit_by_category, palette=\"Blues_r\")\n",
    "plt.title(\"Total Profit by Category\")\n",
    "plt.xlabel(\"Total Profit\")\n",
    "plt.show()\n",
    "\n"
   ]
  },
  {
   "cell_type": "markdown",
   "id": "ec5a2894-2d31-435c-845e-e95343d7e40a",
   "metadata": {},
   "source": [
    "- Findings Sales by Category\n",
    "    - **Technology** leads in sales, showing strong margins.\n",
    "    - **Office Supplies** has the lowest sale."
   ]
  },
  {
   "cell_type": "markdown",
   "id": "bea9bc47-0483-471f-802a-9d1388e27dc4",
   "metadata": {},
   "source": [
    "### C.  Average Sales per Customer Segment"
   ]
  },
  {
   "cell_type": "code",
   "execution_count": 27,
   "id": "feab17be-0754-443b-9a29-39e93f9fb99c",
   "metadata": {},
   "outputs": [
    {
     "data": {
      "text/html": [
       "<div>\n",
       "<style scoped>\n",
       "    .dataframe tbody tr th:only-of-type {\n",
       "        vertical-align: middle;\n",
       "    }\n",
       "\n",
       "    .dataframe tbody tr th {\n",
       "        vertical-align: top;\n",
       "    }\n",
       "\n",
       "    .dataframe thead th {\n",
       "        text-align: right;\n",
       "    }\n",
       "</style>\n",
       "<table border=\"1\" class=\"dataframe\">\n",
       "  <thead>\n",
       "    <tr style=\"text-align: right;\">\n",
       "      <th></th>\n",
       "      <th>Segment</th>\n",
       "      <th>Sales</th>\n",
       "    </tr>\n",
       "  </thead>\n",
       "  <tbody>\n",
       "    <tr>\n",
       "      <th>0</th>\n",
       "      <td>Consumer</td>\n",
       "      <td>225.065777</td>\n",
       "    </tr>\n",
       "    <tr>\n",
       "      <th>1</th>\n",
       "      <td>Corporate</td>\n",
       "      <td>233.150720</td>\n",
       "    </tr>\n",
       "    <tr>\n",
       "      <th>2</th>\n",
       "      <td>Home Office</td>\n",
       "      <td>243.403309</td>\n",
       "    </tr>\n",
       "  </tbody>\n",
       "</table>\n",
       "</div>"
      ],
      "text/plain": [
       "       Segment       Sales\n",
       "0     Consumer  225.065777\n",
       "1    Corporate  233.150720\n",
       "2  Home Office  243.403309"
      ]
     },
     "execution_count": 27,
     "metadata": {},
     "output_type": "execute_result"
    }
   ],
   "source": [
    "\n",
    "avg_sales_segment = df.groupby(\"Segment\")[\"Sales\"].mean().reset_index()\n",
    "avg_sales_segment\n"
   ]
  },
  {
   "cell_type": "code",
   "execution_count": 28,
   "id": "1f483864-ac6d-4ca7-9187-7d738dfd9d01",
   "metadata": {},
   "outputs": [
    {
     "data": {
      "image/png": "[encoded data removed]",
      "text/plain": [
       "<Figure size 600x600 with 1 Axes>"
      ]
     },
     "metadata": {},
     "output_type": "display_data"
    }
   ],
   "source": [
    "plt.figure(figsize=(6,6))\n",
    "plt.pie(\n",
    "    avg_sales_segment[\"Sales\"], \n",
    "    labels=avg_sales_segment[\"Segment\"], \n",
    "    autopct=\"%1.1f%%\", \n",
    "    startangle=140\n",
    ")\n",
    "plt.title(\"Average Sales Distribution by Segment\")\n",
    "plt.show()"
   ]
  },
  {
   "cell_type": "markdown",
   "id": "a14c4e41-2c17-45ca-b6ad-2bc122d89ab3",
   "metadata": {},
   "source": [
    "- Key Insights\n",
    "    - The **West** is a strong market driver.\n",
    "    - The **Technology** category has the most sales — worth investing in."
   ]
  },
  {
   "cell_type": "markdown",
   "id": "194aeded-e159-49ae-b4fe-95ebe3eb37b7",
   "metadata": {},
   "source": [
    "# Task No 5"
   ]
  },
  {
   "cell_type": "markdown",
   "id": "b6913890-f168-4b32-b673-efb46f466058",
   "metadata": {},
   "source": [
    "> Dash Board on HR data "
   ]
  },
  {
   "cell_type": "code",
   "execution_count": null,
   "id": "796ff096-b428-4929-8ed2-29feeef8e820",
   "metadata": {},
   "outputs": [],
   "source": []
  }
 ],
 "metadata": {
  "kernelspec": {
   "display_name": "Python 3 (ipykernel)",
   "language": "python",
   "name": "python3"
  },
  "language_info": {
   "codemirror_mode": {
    "name": "ipython",
    "version": 3
   },
   "file_extension": ".py",
   "mimetype": "text/x-python",
   "name": "python",
   "nbconvert_exporter": "python",
   "pygments_lexer": "ipython3",
   "version": "3.13.5"
  }
 },
 "nbformat": 4,
 "nbformat_minor": 5
}
